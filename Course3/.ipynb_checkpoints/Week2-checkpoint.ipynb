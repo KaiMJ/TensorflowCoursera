{
 "cells": [
  {
   "cell_type": "code",
   "execution_count": 1,
   "id": "revised-dream",
   "metadata": {},
   "outputs": [],
   "source": [
    "import tensorflow_datasets as tfds\n",
    "import numpy as np\n",
    "import io\n",
    "import tensorflow as tf\n",
    "import matplotlib.pyplot as plt\n",
    "\n",
    "from tensorflow.keras.preprocessing.text import Tokenizer\n",
    "from tensorflow.keras.preprocessing.sequence import pad_sequences"
   ]
  },
  {
   "cell_type": "code",
   "execution_count": 2,
   "id": "statutory-sustainability",
   "metadata": {},
   "outputs": [],
   "source": [
    "imdb, info = tfds.load(\"imdb_reviews\", with_info=True, as_supervised=True)"
   ]
  },
  {
   "cell_type": "code",
   "execution_count": 3,
   "id": "statutory-sample",
   "metadata": {},
   "outputs": [
    {
     "data": {
      "text/plain": [
       "{'train': <PrefetchDataset shapes: ((), ()), types: (tf.string, tf.int64)>,\n",
       " 'test': <PrefetchDataset shapes: ((), ()), types: (tf.string, tf.int64)>,\n",
       " 'unsupervised': <PrefetchDataset shapes: ((), ()), types: (tf.string, tf.int64)>}"
      ]
     },
     "execution_count": 3,
     "metadata": {},
     "output_type": "execute_result"
    }
   ],
   "source": [
    "imdb"
   ]
  },
  {
   "cell_type": "code",
   "execution_count": 4,
   "id": "vocal-decision",
   "metadata": {},
   "outputs": [],
   "source": [
    "train_data, test_data = imdb['train'], imdb['test']\n",
    "\n",
    "training_sentences = []\n",
    "training_labels = []\n",
    "\n",
    "testing_sentences = []\n",
    "testing_labels = []\n",
    "\n",
    "# str(s.tonumpy()) is needed in Python3 instead of just s.numpy()\n",
    "for s,l in train_data:\n",
    "    training_sentences.append(s.numpy().decode('utf8'))\n",
    "    training_labels.append(l.numpy())\n",
    "\n",
    "for s,l in test_data:\n",
    "    testing_sentences.append(s.numpy().decode('utf8'))\n",
    "    testing_labels.append(l.numpy())\n",
    "  \n",
    "training_labels_final = np.array(training_labels)\n",
    "testing_labels_final = np.array(testing_labels)"
   ]
  },
  {
   "cell_type": "code",
   "execution_count": 5,
   "id": "electrical-latitude",
   "metadata": {},
   "outputs": [],
   "source": [
    "vocab_size = 10000\n",
    "embedding_dim = 16\n",
    "max_length = 100\n",
    "trunc_type='post'\n",
    "padding_type='post'\n",
    "oov_tok = \"<OOV>\"\n",
    "training_size= 20000\n",
    "\n",
    "\n",
    "tokenizer = Tokenizer(num_words = vocab_size, oov_token=oov_tok)\n",
    "tokenizer.fit_on_texts(training_sentences)\n",
    "word_index = tokenizer.word_index\n",
    "sequences = tokenizer.texts_to_sequences(training_sentences)\n",
    "padded = pad_sequences(sequences,maxlen=max_length, truncating=trunc_type)\n",
    "\n",
    "testing_sequences = tokenizer.texts_to_sequences(testing_sentences)\n",
    "testing_padded = pad_sequences(testing_sequences,maxlen=max_length)"
   ]
  },
  {
   "cell_type": "code",
   "execution_count": 6,
   "id": "biblical-edwards",
   "metadata": {},
   "outputs": [
    {
     "name": "stdout",
     "output_type": "stream",
     "text": [
      "? ? ? ? ? ? ? ? ? ? ? this is the kind of film for a snowy sunday afternoon when the rest of the world can go ahead with its own business as you <OOV> into a big arm chair and <OOV> for a couple of hours wonderful performances from cher and nicolas cage as always gently row the plot along there are no <OOV> to cross no dangerous waters just a warm and witty <OOV> through new york life at its best a family film in every sense and one that deserves the praise it received\n",
      "This is the kind of film for a snowy Sunday afternoon when the rest of the world can go ahead with its own business as you descend into a big arm-chair and mellow for a couple of hours. Wonderful performances from Cher and Nicolas Cage (as always) gently row the plot along. There are no rapids to cross, no dangerous waters, just a warm and witty paddle through New York life at its best. A family film in every sense and one that deserves the praise it received.\n"
     ]
    }
   ],
   "source": [
    "reverse_word_index = dict([(value, key) for (key, value) in word_index.items()])\n",
    "\n",
    "def decode_review(text):\n",
    "    return ' '.join([reverse_word_index.get(i, '?') for i in text])\n",
    "\n",
    "print(decode_review(padded[3]))\n",
    "print(training_sentences[3])"
   ]
  },
  {
   "cell_type": "code",
   "execution_count": 7,
   "id": "atmospheric-study",
   "metadata": {},
   "outputs": [
    {
     "name": "stdout",
     "output_type": "stream",
     "text": [
      "Model: \"sequential\"\n",
      "_________________________________________________________________\n",
      "Layer (type)                 Output Shape              Param #   \n",
      "=================================================================\n",
      "embedding (Embedding)        (None, 100, 16)           160000    \n",
      "_________________________________________________________________\n",
      "flatten (Flatten)            (None, 1600)              0         \n",
      "_________________________________________________________________\n",
      "dense (Dense)                (None, 6)                 9606      \n",
      "_________________________________________________________________\n",
      "dense_1 (Dense)              (None, 1)                 7         \n",
      "=================================================================\n",
      "Total params: 169,613\n",
      "Trainable params: 169,613\n",
      "Non-trainable params: 0\n",
      "_________________________________________________________________\n"
     ]
    }
   ],
   "source": [
    "model = tf.keras.Sequential([\n",
    "  tf.keras.layers.Embedding(vocab_size, embedding_dim, input_length=max_length),\n",
    "    tf.keras.layers.Flatten(),\n",
    "    tf.keras.layers.Dense(6, activation='relu'),\n",
    "    tf.keras.layers.Dense(1, activation='sigmoid')\n",
    "])\n",
    "\n",
    "model.compile(loss='binary_crossentropy',optimizer='adam',metrics=['accuracy'])\n",
    "model.summary()"
   ]
  },
  {
   "cell_type": "code",
   "execution_count": 8,
   "id": "romantic-warrior",
   "metadata": {},
   "outputs": [
    {
     "name": "stdout",
     "output_type": "stream",
     "text": [
      "Epoch 1/10\n",
      "782/782 [==============================] - 2s 2ms/step - loss: 0.5088 - accuracy: 0.7296 - val_loss: 0.3684 - val_accuracy: 0.8337\n",
      "Epoch 2/10\n",
      "782/782 [==============================] - 1s 2ms/step - loss: 0.2559 - accuracy: 0.8987 - val_loss: 0.3997 - val_accuracy: 0.8216\n",
      "Epoch 3/10\n",
      "782/782 [==============================] - 1s 2ms/step - loss: 0.0958 - accuracy: 0.9749 - val_loss: 0.4859 - val_accuracy: 0.8145\n",
      "Epoch 4/10\n",
      "782/782 [==============================] - 1s 2ms/step - loss: 0.0228 - accuracy: 0.9974 - val_loss: 0.5713 - val_accuracy: 0.8094\n",
      "Epoch 5/10\n",
      "782/782 [==============================] - 1s 2ms/step - loss: 0.0061 - accuracy: 0.9996 - val_loss: 0.6357 - val_accuracy: 0.8127\n",
      "Epoch 6/10\n",
      "782/782 [==============================] - 1s 2ms/step - loss: 0.0020 - accuracy: 1.0000 - val_loss: 0.6910 - val_accuracy: 0.8122\n",
      "Epoch 7/10\n",
      "782/782 [==============================] - 1s 2ms/step - loss: 9.1039e-04 - accuracy: 1.0000 - val_loss: 0.7382 - val_accuracy: 0.8126\n",
      "Epoch 8/10\n",
      "782/782 [==============================] - 1s 2ms/step - loss: 4.9942e-04 - accuracy: 1.0000 - val_loss: 0.7818 - val_accuracy: 0.8126\n",
      "Epoch 9/10\n",
      "782/782 [==============================] - 1s 2ms/step - loss: 2.9120e-04 - accuracy: 1.0000 - val_loss: 0.8240 - val_accuracy: 0.8127\n",
      "Epoch 10/10\n",
      "782/782 [==============================] - 1s 2ms/step - loss: 3.2592e-04 - accuracy: 1.0000 - val_loss: 0.8733 - val_accuracy: 0.8124\n"
     ]
    },
    {
     "data": {
      "text/plain": [
       "<keras.callbacks.History at 0x7f489c228220>"
      ]
     },
     "execution_count": 8,
     "metadata": {},
     "output_type": "execute_result"
    }
   ],
   "source": [
    "num_epochs = 10\n",
    "model.fit(padded, training_labels_final, epochs=num_epochs, \n",
    "          validation_data=(testing_padded, testing_labels_final))"
   ]
  },
  {
   "cell_type": "code",
   "execution_count": 9,
   "id": "medieval-trance",
   "metadata": {},
   "outputs": [
    {
     "name": "stdout",
     "output_type": "stream",
     "text": [
      "(10000, 16)\n"
     ]
    }
   ],
   "source": [
    "e = model.layers[0]\n",
    "weights = e.get_weights()[0]\n",
    "print(weights.shape)"
   ]
  },
  {
   "cell_type": "code",
   "execution_count": 10,
   "id": "pursuant-consequence",
   "metadata": {},
   "outputs": [],
   "source": [
    "out_v = io.open('vecs.tsv', 'w', encoding='utf-8')\n",
    "out_m = io.open('meta.tsv', 'w', encoding='utf-8')\n",
    "for word_num in range(1, vocab_size):\n",
    "    word = reverse_word_index[word_num]\n",
    "    embeddings = weights[word_num]\n",
    "    out_m.write(word + \"\\n\")\n",
    "    out_v.write('\\t'.join([str(x) for x in embeddings]) + \"\\n\")\n",
    "out_v.close()\n",
    "out_m.close()"
   ]
  },
  {
   "cell_type": "code",
   "execution_count": 11,
   "id": "necessary-italian",
   "metadata": {},
   "outputs": [
    {
     "name": "stdout",
     "output_type": "stream",
     "text": [
      "[[11, 64, 102, 12, 7, 478, 1200]]\n"
     ]
    }
   ],
   "source": [
    "sentence = \"I really think this is amazing. honest.\"\n",
    "sequence = tokenizer.texts_to_sequences([sentence])\n",
    "print(sequence)"
   ]
  },
  {
   "cell_type": "code",
   "execution_count": 12,
   "id": "useful-update",
   "metadata": {},
   "outputs": [],
   "source": [
    "# back to sarcasm"
   ]
  },
  {
   "cell_type": "code",
   "execution_count": 13,
   "id": "innocent-mouse",
   "metadata": {},
   "outputs": [],
   "source": [
    "vocab_size = 10000\n",
    "embedding_dim = 16\n",
    "max_length = 100\n",
    "trunc_type='post'\n",
    "padding_type='post'\n",
    "oov_tok = \"<OOV>\"\n",
    "training_size = 20000"
   ]
  },
  {
   "cell_type": "code",
   "execution_count": 14,
   "id": "loose-disco",
   "metadata": {},
   "outputs": [],
   "source": [
    "import json"
   ]
  },
  {
   "cell_type": "code",
   "execution_count": 15,
   "id": "destroyed-chase",
   "metadata": {},
   "outputs": [],
   "source": [
    "with open(\"./sarcasm.json\", 'r') as f:\n",
    "    datastore = json.load(f)\n",
    "\n",
    "sentences = []\n",
    "labels = []\n",
    "\n",
    "for item in datastore:\n",
    "    sentences.append(item['headline'])\n",
    "    labels.append(item['is_sarcastic'])"
   ]
  },
  {
   "cell_type": "code",
   "execution_count": 16,
   "id": "electric-estate",
   "metadata": {},
   "outputs": [],
   "source": [
    "training_sentences = sentences[0:training_size]\n",
    "testing_sentences = sentences[training_size:]\n",
    "training_labels = labels[0:training_size]\n",
    "testing_labels = labels[training_size:]"
   ]
  },
  {
   "cell_type": "code",
   "execution_count": 17,
   "id": "dietary-subscriber",
   "metadata": {},
   "outputs": [],
   "source": [
    "tokenizer = Tokenizer(num_words=vocab_size, oov_token=oov_tok)\n",
    "tokenizer.fit_on_texts(training_sentences)\n",
    "\n",
    "word_index = tokenizer.word_index\n",
    "\n",
    "training_sequences = tokenizer.texts_to_sequences(training_sentences)\n",
    "training_padded = pad_sequences(training_sequences, maxlen=max_length, padding=padding_type, truncating=trunc_type)\n",
    "\n",
    "testing_sequences = tokenizer.texts_to_sequences(testing_sentences)\n",
    "testing_padded = pad_sequences(testing_sequences, maxlen=max_length, padding=padding_type, truncating=trunc_type)"
   ]
  },
  {
   "cell_type": "code",
   "execution_count": 18,
   "id": "dramatic-local",
   "metadata": {},
   "outputs": [],
   "source": [
    "training_padded = np.array(training_padded)\n",
    "training_labels = np.array(training_labels)\n",
    "testing_padded = np.array(testing_padded)\n",
    "testing_labels = np.array(testing_labels)"
   ]
  },
  {
   "cell_type": "code",
   "execution_count": 19,
   "id": "divided-harassment",
   "metadata": {},
   "outputs": [],
   "source": [
    "model = tf.keras.Sequential([\n",
    "    tf.keras.layers.Embedding(vocab_size, embedding_dim, input_length=max_length),\n",
    "    tf.keras.layers.GlobalAveragePooling1D(),\n",
    "    tf.keras.layers.Dense(24, activation='relu'),\n",
    "    tf.keras.layers.Dense(1, activation='sigmoid')\n",
    "])\n",
    "model.compile(loss='binary_crossentropy',optimizer='adam',metrics=['accuracy'])"
   ]
  },
  {
   "cell_type": "code",
   "execution_count": 20,
   "id": "commercial-heavy",
   "metadata": {},
   "outputs": [
    {
     "name": "stdout",
     "output_type": "stream",
     "text": [
      "Model: \"sequential_1\"\n",
      "_________________________________________________________________\n",
      "Layer (type)                 Output Shape              Param #   \n",
      "=================================================================\n",
      "embedding_1 (Embedding)      (None, 100, 16)           160000    \n",
      "_________________________________________________________________\n",
      "global_average_pooling1d (Gl (None, 16)                0         \n",
      "_________________________________________________________________\n",
      "dense_2 (Dense)              (None, 24)                408       \n",
      "_________________________________________________________________\n",
      "dense_3 (Dense)              (None, 1)                 25        \n",
      "=================================================================\n",
      "Total params: 160,433\n",
      "Trainable params: 160,433\n",
      "Non-trainable params: 0\n",
      "_________________________________________________________________\n"
     ]
    }
   ],
   "source": [
    "model.summary()"
   ]
  },
  {
   "cell_type": "code",
   "execution_count": 21,
   "id": "departmental-hampton",
   "metadata": {
    "scrolled": true
   },
   "outputs": [
    {
     "name": "stdout",
     "output_type": "stream",
     "text": [
      "Epoch 1/30\n",
      "625/625 - 1s - loss: 0.6685 - accuracy: 0.5743 - val_loss: 0.6043 - val_accuracy: 0.6341\n",
      "Epoch 2/30\n",
      "625/625 - 1s - loss: 0.4537 - accuracy: 0.8172 - val_loss: 0.3969 - val_accuracy: 0.8305\n",
      "Epoch 3/30\n",
      "625/625 - 1s - loss: 0.3196 - accuracy: 0.8759 - val_loss: 0.3554 - val_accuracy: 0.8523\n",
      "Epoch 4/30\n",
      "625/625 - 1s - loss: 0.2645 - accuracy: 0.8969 - val_loss: 0.3457 - val_accuracy: 0.8571\n",
      "Epoch 5/30\n",
      "625/625 - 1s - loss: 0.2265 - accuracy: 0.9148 - val_loss: 0.3472 - val_accuracy: 0.8545\n",
      "Epoch 6/30\n",
      "625/625 - 1s - loss: 0.2010 - accuracy: 0.9230 - val_loss: 0.3661 - val_accuracy: 0.8456\n",
      "Epoch 7/30\n",
      "625/625 - 1s - loss: 0.1785 - accuracy: 0.9330 - val_loss: 0.3628 - val_accuracy: 0.8530\n",
      "Epoch 8/30\n",
      "625/625 - 1s - loss: 0.1582 - accuracy: 0.9427 - val_loss: 0.3743 - val_accuracy: 0.8554\n",
      "Epoch 9/30\n",
      "625/625 - 1s - loss: 0.1423 - accuracy: 0.9486 - val_loss: 0.4345 - val_accuracy: 0.8346\n",
      "Epoch 10/30\n",
      "625/625 - 1s - loss: 0.1309 - accuracy: 0.9539 - val_loss: 0.4134 - val_accuracy: 0.8490\n",
      "Epoch 11/30\n",
      "625/625 - 1s - loss: 0.1199 - accuracy: 0.9578 - val_loss: 0.4347 - val_accuracy: 0.8481\n",
      "Epoch 12/30\n",
      "625/625 - 1s - loss: 0.1074 - accuracy: 0.9638 - val_loss: 0.4682 - val_accuracy: 0.8407\n",
      "Epoch 13/30\n",
      "625/625 - 1s - loss: 0.1001 - accuracy: 0.9649 - val_loss: 0.4935 - val_accuracy: 0.8408\n",
      "Epoch 14/30\n",
      "625/625 - 1s - loss: 0.0910 - accuracy: 0.9696 - val_loss: 0.5423 - val_accuracy: 0.8320\n",
      "Epoch 15/30\n",
      "625/625 - 1s - loss: 0.0843 - accuracy: 0.9717 - val_loss: 0.5428 - val_accuracy: 0.8378\n",
      "Epoch 16/30\n",
      "625/625 - 1s - loss: 0.0756 - accuracy: 0.9765 - val_loss: 0.5862 - val_accuracy: 0.8337\n",
      "Epoch 17/30\n",
      "625/625 - 1s - loss: 0.0702 - accuracy: 0.9780 - val_loss: 0.6004 - val_accuracy: 0.8348\n",
      "Epoch 18/30\n",
      "625/625 - 1s - loss: 0.0633 - accuracy: 0.9798 - val_loss: 0.6431 - val_accuracy: 0.8307\n",
      "Epoch 19/30\n",
      "625/625 - 1s - loss: 0.0594 - accuracy: 0.9804 - val_loss: 0.6667 - val_accuracy: 0.8293\n",
      "Epoch 20/30\n",
      "625/625 - 1s - loss: 0.0546 - accuracy: 0.9826 - val_loss: 0.7283 - val_accuracy: 0.8271\n",
      "Epoch 21/30\n",
      "625/625 - 1s - loss: 0.0502 - accuracy: 0.9851 - val_loss: 0.7517 - val_accuracy: 0.8247\n",
      "Epoch 22/30\n",
      "625/625 - 1s - loss: 0.0451 - accuracy: 0.9870 - val_loss: 0.7808 - val_accuracy: 0.8247\n",
      "Epoch 23/30\n",
      "625/625 - 1s - loss: 0.0431 - accuracy: 0.9870 - val_loss: 0.8133 - val_accuracy: 0.8223\n",
      "Epoch 24/30\n",
      "625/625 - 1s - loss: 0.0384 - accuracy: 0.9894 - val_loss: 0.8708 - val_accuracy: 0.8193\n",
      "Epoch 25/30\n",
      "625/625 - 1s - loss: 0.0362 - accuracy: 0.9894 - val_loss: 1.0699 - val_accuracy: 0.8137\n",
      "Epoch 26/30\n",
      "625/625 - 1s - loss: 0.0337 - accuracy: 0.9897 - val_loss: 0.9363 - val_accuracy: 0.8182\n",
      "Epoch 27/30\n",
      "625/625 - 1s - loss: 0.0318 - accuracy: 0.9908 - val_loss: 0.9655 - val_accuracy: 0.8158\n",
      "Epoch 28/30\n",
      "625/625 - 1s - loss: 0.0277 - accuracy: 0.9923 - val_loss: 1.0118 - val_accuracy: 0.8173\n",
      "Epoch 29/30\n",
      "625/625 - 1s - loss: 0.0262 - accuracy: 0.9926 - val_loss: 1.0642 - val_accuracy: 0.8143\n",
      "Epoch 30/30\n",
      "625/625 - 1s - loss: 0.0234 - accuracy: 0.9934 - val_loss: 1.0842 - val_accuracy: 0.8117\n"
     ]
    }
   ],
   "source": [
    "num_epochs = 30\n",
    "history = model.fit(training_padded, training_labels, epochs=num_epochs, validation_data=(testing_padded, testing_labels), verbose=2)"
   ]
  },
  {
   "cell_type": "code",
   "execution_count": 22,
   "id": "million-rapid",
   "metadata": {},
   "outputs": [
    {
     "data": {
      "image/png": "[encoded data removed]",
      "text/plain": [
       "<Figure size 432x288 with 1 Axes>"
      ]
     },
     "metadata": {
      "needs_background": "light"
     },
     "output_type": "display_data"
    },
    {
     "data": {
      "image/png": "[encoded data removed]",
      "text/plain": [
       "<Figure size 432x288 with 1 Axes>"
      ]
     },
     "metadata": {
      "needs_background": "light"
     },
     "output_type": "display_data"
    }
   ],
   "source": [
    "def plot_graphs(history, string):\n",
    "    plt.plot(history.history[string])\n",
    "    plt.plot(history.history['val_'+string])\n",
    "    plt.xlabel(\"Epochs\")\n",
    "    plt.ylabel(string)\n",
    "    plt.legend([string, 'val_'+string])\n",
    "    plt.show()\n",
    "\n",
    "plot_graphs(history, \"accuracy\")\n",
    "plot_graphs(history, \"loss\")"
   ]
  },
  {
   "cell_type": "code",
   "execution_count": 23,
   "id": "former-relation",
   "metadata": {},
   "outputs": [
    {
     "name": "stdout",
     "output_type": "stream",
     "text": [
      "former <OOV> store clerk sues over secret 'black <OOV> for minority shoppers ? ? ? ? ? ? ? ? ? ? ? ? ? ? ? ? ? ? ? ? ? ? ? ? ? ? ? ? ? ? ? ? ? ? ? ? ? ? ? ? ? ? ? ? ? ? ? ? ? ? ? ? ? ? ? ? ? ? ? ? ? ? ? ? ? ? ? ? ? ? ? ? ? ? ? ? ? ? ? ? ? ? ? ? ? ? ? ?\n",
      "mom starting to fear son's web series closest thing she will have to grandchild\n",
      "1\n"
     ]
    }
   ],
   "source": [
    "reverse_word_index = dict([(value, key) for (key, value) in word_index.items()])\n",
    "\n",
    "def decode_sentence(text):\n",
    "    return ' '.join([reverse_word_index.get(i, '?') for i in text])\n",
    "\n",
    "print(decode_sentence(training_padded[0]))\n",
    "print(training_sentences[2])\n",
    "print(labels[2])"
   ]
  },
  {
   "cell_type": "code",
   "execution_count": 24,
   "id": "remarkable-riding",
   "metadata": {},
   "outputs": [
    {
     "name": "stdout",
     "output_type": "stream",
     "text": [
      "(10000, 16)\n"
     ]
    }
   ],
   "source": [
    "e = model.layers[0]\n",
    "weights = e.get_weights()[0]\n",
    "print(weights.shape) # shape: (vocab_size, embedding_dim)"
   ]
  },
  {
   "cell_type": "code",
   "execution_count": 25,
   "id": "small-milan",
   "metadata": {},
   "outputs": [],
   "source": [
    "out_v = io.open('vecs.tsv', 'w', encoding='utf-8')\n",
    "out_m = io.open('meta.tsv', 'w', encoding='utf-8')\n",
    "for word_num in range(1, vocab_size):\n",
    "    word = reverse_word_index[word_num]\n",
    "    embeddings = weights[word_num]\n",
    "    out_m.write(word + \"\\n\")\n",
    "    out_v.write('\\t'.join([str(x) for x in embeddings]) + \"\\n\")\n",
    "out_v.close()\n",
    "out_m.close()"
   ]
  },
  {
   "cell_type": "code",
   "execution_count": 26,
   "id": "opening-mortgage",
   "metadata": {},
   "outputs": [
    {
     "name": "stdout",
     "output_type": "stream",
     "text": [
      "[[9.7208232e-01]\n",
      " [1.3564681e-05]]\n"
     ]
    }
   ],
   "source": [
    "sentence = [\"granny starting to fear spiders in the garden might be real\", \"game of thrones season finale showing this sunday night\"]\n",
    "sequences = tokenizer.texts_to_sequences(sentence)\n",
    "padded = pad_sequences(sequences, maxlen=max_length, padding=padding_type, truncating=trunc_type)\n",
    "print(model.predict(padded))"
   ]
  },
  {
   "cell_type": "markdown",
   "id": "bibliographic-serial",
   "metadata": {},
   "source": [
    "# Single vs Multiple Layer LSTM"
   ]
  },
  {
   "cell_type": "code",
   "execution_count": 27,
   "id": "valid-pharmaceutical",
   "metadata": {},
   "outputs": [
    {
     "name": "stdout",
     "output_type": "stream",
     "text": [
      "2.6.1\n"
     ]
    }
   ],
   "source": [
    "from __future__ import absolute_import, division, print_function, unicode_literals\n",
    "\n",
    "import tensorflow_datasets as tfds\n",
    "import tensorflow as tf\n",
    "print(tf.__version__)"
   ]
  },
  {
   "cell_type": "code",
   "execution_count": 28,
   "id": "widespread-sharing",
   "metadata": {},
   "outputs": [
    {
     "name": "stderr",
     "output_type": "stream",
     "text": [
      "WARNING:absl:TFDS datasets with text encoding are deprecated and will be removed in a future version. Instead, you should use the plain text version and tokenize the text using `tensorflow_text` (See: https://www.tensorflow.org/tutorials/tensorflow_text/intro#tfdata_example)\n"
     ]
    }
   ],
   "source": [
    "dataset, info = tfds.load('imdb_reviews/subwords8k', with_info=True, as_supervised=True)\n",
    "train_dataset, test_dataset = dataset['train'], dataset['test']"
   ]
  },
  {
   "cell_type": "code",
   "execution_count": 29,
   "id": "joint-fight",
   "metadata": {},
   "outputs": [],
   "source": [
    "tokenizer = info.features['text'].encoder"
   ]
  },
  {
   "cell_type": "code",
   "execution_count": 30,
   "id": "private-tenant",
   "metadata": {},
   "outputs": [
    {
     "data": {
      "text/plain": [
       "8185"
      ]
     },
     "execution_count": 30,
     "metadata": {},
     "output_type": "execute_result"
    }
   ],
   "source": [
    "tokenizer.vocab_size"
   ]
  },
  {
   "cell_type": "code",
   "execution_count": 31,
   "id": "familiar-rwanda",
   "metadata": {},
   "outputs": [],
   "source": [
    "BUFFER_SIZE = 10000\n",
    "BATCH_SIZE = 64\n",
    "\n",
    "train_dataset = train_dataset.shuffle(BUFFER_SIZE)\n",
    "train_dataset = train_dataset.padded_batch(BATCH_SIZE, tf.compat.v1.data.get_output_shapes(train_dataset))\n",
    "test_dataset = test_dataset.padded_batch(BATCH_SIZE, tf.compat.v1.data.get_output_shapes(test_dataset))"
   ]
  },
  {
   "cell_type": "code",
   "execution_count": 42,
   "id": "perceived-charm",
   "metadata": {},
   "outputs": [],
   "source": [
    "model_single = tf.keras.Sequential([\n",
    "    tf.keras.layers.Embedding(tokenizer.vocab_size, 64),\n",
    "    tf.keras.layers.Bidirectional(tf.keras.layers.LSTM(64)),\n",
    "    # tf.keras.layers.Conv1D(128, 5, activation='relu'),\n",
    "    # tf.keras.layers.GlobalAveragePooling1D(),\n",
    "    # tf.kears.layers.Bidirectional(tf.keras.layers.LSTM(32))\n",
    "    tf.keras.layers.Dense(64, activation='relu'),\n",
    "    tf.keras.layers.Dense(1, activation='sigmoid')\n",
    "])"
   ]
  },
  {
   "cell_type": "code",
   "execution_count": 41,
   "id": "civil-utility",
   "metadata": {},
   "outputs": [],
   "source": [
    "model_multiple = tf.keras.Sequential([\n",
    "    tf.keras.layers.Embedding(tokenizer.vocab_size, 64),\n",
    "    tf.keras.layers.Bidirectional(tf.keras.layers.LSTM(64, return_sequences=True)),\n",
    "    tf.keras.layers.Bidirectional(tf.keras.layers.LSTM(32)),\n",
    "    tf.keras.layers.Dense(64, activation='relu'),\n",
    "    tf.keras.layers.Dense(1, activation='sigmoid')\n",
    "])"
   ]
  },
  {
   "cell_type": "code",
   "execution_count": null,
   "id": "overall-traffic",
   "metadata": {},
   "outputs": [],
   "source": [
    "model_multiple.summary()"
   ]
  },
  {
   "cell_type": "code",
   "execution_count": 44,
   "id": "satisfied-lewis",
   "metadata": {},
   "outputs": [
    {
     "name": "stdout",
     "output_type": "stream",
     "text": [
      "Model: \"sequential_3\"\n",
      "_________________________________________________________________\n",
      "Layer (type)                 Output Shape              Param #   \n",
      "=================================================================\n",
      "embedding_3 (Embedding)      (None, None, 64)          523840    \n",
      "_________________________________________________________________\n",
      "bidirectional_2 (Bidirection (None, None, 128)         66048     \n",
      "_________________________________________________________________\n",
      "bidirectional_3 (Bidirection (None, 64)                41216     \n",
      "_________________________________________________________________\n",
      "dense_6 (Dense)              (None, 64)                4160      \n",
      "_________________________________________________________________\n",
      "dense_7 (Dense)              (None, 1)                 65        \n",
      "=================================================================\n",
      "Total params: 635,329\n",
      "Trainable params: 635,329\n",
      "Non-trainable params: 0\n",
      "_________________________________________________________________\n"
     ]
    }
   ],
   "source": [
    "model_multiple.summary()"
   ]
  },
  {
   "cell_type": "code",
   "execution_count": 45,
   "id": "danish-connectivity",
   "metadata": {},
   "outputs": [],
   "source": [
    "model_single.compile(loss='binary_crossentropy', optimizer='adam', metrics=['accuracy'])"
   ]
  },
  {
   "cell_type": "code",
   "execution_count": 46,
   "id": "hollow-center",
   "metadata": {},
   "outputs": [],
   "source": [
    "model_multiple.compile(loss='binary_crossentropy', optimizer='adam', metrics=['accuracy'])"
   ]
  },
  {
   "cell_type": "code",
   "execution_count": 48,
   "id": "accurate-vertex",
   "metadata": {},
   "outputs": [
    {
     "name": "stdout",
     "output_type": "stream",
     "text": [
      "Epoch 1/10\n",
      "391/391 [==============================] - 303s 775ms/step - loss: 0.5451 - accuracy: 0.7302 - val_loss: 0.6868 - val_accuracy: 0.5294\n",
      "Epoch 2/10\n",
      "391/391 [==============================] - 305s 780ms/step - loss: 0.6483 - accuracy: 0.6284 - val_loss: 0.5085 - val_accuracy: 0.7675\n",
      "Epoch 3/10\n",
      "391/391 [==============================] - 305s 774ms/step - loss: 0.5605 - accuracy: 0.7116 - val_loss: 0.6563 - val_accuracy: 0.6248\n",
      "Epoch 4/10\n",
      "391/391 [==============================] - 305s 780ms/step - loss: 0.4443 - accuracy: 0.8029 - val_loss: 0.4988 - val_accuracy: 0.7730\n",
      "Epoch 5/10\n",
      "391/391 [==============================] - 302s 773ms/step - loss: 0.3439 - accuracy: 0.8594 - val_loss: 0.5026 - val_accuracy: 0.7824\n",
      "Epoch 6/10\n",
      "391/391 [==============================] - 302s 773ms/step - loss: 0.2857 - accuracy: 0.8895 - val_loss: 0.4379 - val_accuracy: 0.8141\n",
      "Epoch 7/10\n",
      "391/391 [==============================] - 302s 773ms/step - loss: 0.2462 - accuracy: 0.9062 - val_loss: 0.4624 - val_accuracy: 0.8083\n",
      "Epoch 8/10\n",
      "391/391 [==============================] - 304s 775ms/step - loss: 0.2722 - accuracy: 0.8924 - val_loss: 0.5129 - val_accuracy: 0.7944\n",
      "Epoch 9/10\n",
      "391/391 [==============================] - 302s 774ms/step - loss: 0.3190 - accuracy: 0.8644 - val_loss: 0.4925 - val_accuracy: 0.7743\n",
      "Epoch 10/10\n",
      "391/391 [==============================] - 303s 775ms/step - loss: 0.1841 - accuracy: 0.9337 - val_loss: 0.5998 - val_accuracy: 0.7947\n"
     ]
    }
   ],
   "source": [
    "NUM_EPOCHS = 10\n",
    "history_single = model_single.fit(train_dataset, epochs=NUM_EPOCHS, validation_data=test_dataset)"
   ]
  },
  {
   "cell_type": "code",
   "execution_count": null,
   "id": "forward-identity",
   "metadata": {},
   "outputs": [
    {
     "name": "stdout",
     "output_type": "stream",
     "text": [
      "Epoch 1/10\n",
      "391/391 [==============================] - 583s 1s/step - loss: 0.5409 - accuracy: 0.7234 - val_loss: 0.5437 - val_accuracy: 0.7600\n",
      "Epoch 2/10\n",
      "391/391 [==============================] - 582s 1s/step - loss: 0.4299 - accuracy: 0.8189 - val_loss: 0.4475 - val_accuracy: 0.8082\n",
      "Epoch 3/10\n",
      "391/391 [==============================] - 581s 1s/step - loss: 0.3237 - accuracy: 0.8710 - val_loss: 0.4060 - val_accuracy: 0.8267\n",
      "Epoch 4/10\n",
      "391/391 [==============================] - 582s 1s/step - loss: 0.2489 - accuracy: 0.9073 - val_loss: 0.4857 - val_accuracy: 0.8288\n",
      "Epoch 5/10\n",
      "391/391 [==============================] - 575s 1s/step - loss: 0.2183 - accuracy: 0.9191 - val_loss: 0.4290 - val_accuracy: 0.8320\n",
      "Epoch 6/10\n",
      "391/391 [==============================] - 583s 1s/step - loss: 0.1945 - accuracy: 0.9290 - val_loss: 0.5236 - val_accuracy: 0.7971\n",
      "Epoch 7/10\n",
      "391/391 [==============================] - 582s 1s/step - loss: 0.1616 - accuracy: 0.9438 - val_loss: 0.5804 - val_accuracy: 0.8156\n",
      "Epoch 8/10\n",
      "391/391 [==============================] - 579s 1s/step - loss: 0.1245 - accuracy: 0.9584 - val_loss: 0.5613 - val_accuracy: 0.8206\n",
      "Epoch 9/10\n",
      "328/391 [========================>.....] - ETA: 1:15 - loss: 0.0988 - accuracy: 0.9689"
     ]
    }
   ],
   "source": [
    "NUM_EPOCHS = 10\n",
    "history_multiple = model_multiple.fit(train_dataset, epochs=NUM_EPOCHS, validation_data=test_dataset)"
   ]
  },
  {
   "cell_type": "code",
   "execution_count": null,
   "id": "turned-clark",
   "metadata": {},
   "outputs": [],
   "source": [
    "import matplotlib.pyplot as plt\n",
    "\n",
    "\n",
    "def plot_graphs(history, string):\n",
    "    plt.plot(history.history[string])\n",
    "    plt.plot(history.history['val_'+string])\n",
    "    plt.xlabel(\"Epochs\")\n",
    "    plt.ylabel(string)\n",
    "    plt.legend([string, 'val_'+string])\n",
    "    plt.show()"
   ]
  },
  {
   "cell_type": "code",
   "execution_count": null,
   "id": "precious-colony",
   "metadata": {},
   "outputs": [],
   "source": [
    "plot_graphs(history_single, 'accuracy')"
   ]
  },
  {
   "cell_type": "code",
   "execution_count": null,
   "id": "useful-awareness",
   "metadata": {},
   "outputs": [],
   "source": [
    "plot_graphs(history_single, 'loss')"
   ]
  },
  {
   "cell_type": "code",
   "execution_count": null,
   "id": "conceptual-proceeding",
   "metadata": {},
   "outputs": [],
   "source": [
    "plot_graphs(history_multiple, 'accuracy')"
   ]
  },
  {
   "cell_type": "code",
   "execution_count": null,
   "id": "retained-basic",
   "metadata": {},
   "outputs": [],
   "source": [
    "plot_graphs(history_multiple, 'loss')"
   ]
  },
  {
   "cell_type": "code",
   "execution_count": null,
   "id": "seasonal-exploration",
   "metadata": {},
   "outputs": [],
   "source": []
  }
 ],
 "metadata": {
  "kernelspec": {
   "display_name": "Python 3",
   "language": "python",
   "name": "python3"
  },
  "language_info": {
   "codemirror_mode": {
    "name": "ipython",
    "version": 3
   },
   "file_extension": ".py",
   "mimetype": "text/x-python",
   "name": "python",
   "nbconvert_exporter": "python",
   "pygments_lexer": "ipython3",
   "version": "3.8.8"
  }
 },
 "nbformat": 4,
 "nbformat_minor": 5
}
